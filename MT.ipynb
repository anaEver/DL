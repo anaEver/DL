{
  "nbformat": 4,
  "nbformat_minor": 0,
  "metadata": {
    "colab": {
      "name": "MT.ipynb",
      "provenance": [],
      "collapsed_sections": [],
      "toc_visible": true,
      "include_colab_link": true
    },
    "kernelspec": {
      "name": "python3",
      "display_name": "Python 3"
    }
  },
  "cells": [
    {
      "cell_type": "markdown",
      "metadata": {
        "id": "view-in-github",
        "colab_type": "text"
      },
      "source": [
        "<a href=\"https://colab.research.google.com/github/anaEver/DL/blob/main/MT.ipynb\" target=\"_parent\"><img src=\"https://colab.research.google.com/assets/colab-badge.svg\" alt=\"Open In Colab\"/></a>"
      ]
    },
    {
      "cell_type": "code",
      "metadata": {
        "colab": {
          "base_uri": "https://localhost:8080/"
        },
        "id": "zfla8lFarN_l",
        "outputId": "aa7ef4c2-593b-49c6-d695-709bc0d5815b"
      },
      "source": [
        "import os\n",
        "from getpass import getpass\n",
        "user = getpass('username') #anaEver\n",
        "password = getpass('password') #431685951Ana\n",
        "os.environ['GITHUB_AUTH'] = user + ':' + password\n",
        "!git clone --branch master https://$GITHUB_AUTH@github.com/anaEver/MT.git"
      ],
      "execution_count": 2,
      "outputs": [
        {
          "output_type": "stream",
          "text": [
            "username··········\n",
            "password··········\n",
            "Cloning into 'MT'...\n",
            "remote: Enumerating objects: 514, done.\u001b[K\n",
            "remote: Counting objects: 100% (514/514), done.\u001b[K\n",
            "remote: Compressing objects: 100% (156/156), done.\u001b[K\n",
            "remote: Total 514 (delta 359), reused 501 (delta 351), pack-reused 0\u001b[K\n",
            "Receiving objects: 100% (514/514), 404.00 KiB | 9.85 MiB/s, done.\n",
            "Resolving deltas: 100% (359/359), done.\n"
          ],
          "name": "stdout"
        }
      ]
    },
    {
      "cell_type": "code",
      "metadata": {
        "id": "dItZhps8940O"
      },
      "source": [
        "!git config --global user.email \"n.asl_ana@outlook.com\"\n",
        "!git config --global user.name \"anaEver\"\n",
        "!git config --global user.password \"431685951Ana\""
      ],
      "execution_count": null,
      "outputs": []
    },
    {
      "cell_type": "code",
      "metadata": {
        "colab": {
          "base_uri": "https://localhost:8080/"
        },
        "id": "cXb6mSmO-qFK",
        "outputId": "e862e0d3-5efd-49f2-de37-c47d31fe33aa"
      },
      "source": [
        "!python simulation.py"
      ],
      "execution_count": null,
      "outputs": [
        {
          "output_type": "stream",
          "text": [
            "[<models.continous_discrete_lts_model.Reward21 object at 0x7f8e6bd52610>, <models.continous_discrete_lts_model.Reward21 object at 0x7f8e6bd24190>, <models.continous_discrete_lts_model.Reward21 object at 0x7f8e6bd2e890>, <models.continous_discrete_lts_model.Reward21 object at 0x7f8e6bd2eb90>, <models.continous_discrete_lts_model.Reward21 object at 0x7f8e6bd36510>]\n",
            "Traceback (most recent call last):\n",
            "  File \"simulation.py\", line 1, in <module>\n",
            "    from user_defined.config import PARALLEL, MAX_STATES, NUMBER_SIMULATIONS, NUMBER_REPETITIONS_PER_SEED, \\\n",
            "  File \"/content/MT/user_defined/config.py\", line 1, in <module>\n",
            "    from models import *\n",
            "  File \"/content/MT/models/__init__.py\", line 8, in <module>\n",
            "    from models.mt_paper_model_rare import mt_model_2\n",
            "  File \"/content/MT/models/mt_paper_model_rare.py\", line 78, in <module>\n",
            "    reward1 = Availability(0)\n",
            "TypeError: __init__() takes 1 positional argument but 2 were given\n"
          ],
          "name": "stdout"
        }
      ]
    }
  ]
}