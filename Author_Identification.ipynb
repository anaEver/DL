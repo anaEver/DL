{
  "nbformat": 4,
  "nbformat_minor": 0,
  "metadata": {
    "colab": {
      "name": "Wisdom_Tweets_Author_Identification.ipynb",
      "provenance": [],
      "collapsed_sections": [],
      "authorship_tag": "ABX9TyOFnYfNn+X5nE8oiq+eD3ms",
      "include_colab_link": true
    },
    "kernelspec": {
      "display_name": "Python 3",
      "name": "python3"
    }
  },
  "cells": [
    {
      "cell_type": "markdown",
      "metadata": {
        "id": "view-in-github",
        "colab_type": "text"
      },
      "source": [
        "<a href=\"https://colab.research.google.com/github/anaEver/DL/blob/main/Author_Identification.ipynb\" target=\"_parent\"><img src=\"https://colab.research.google.com/assets/colab-badge.svg\" alt=\"Open In Colab\"/></a>"
      ]
    },
    {
      "cell_type": "markdown",
      "metadata": {
        "id": "yrRB0mZS6EnF"
      },
      "source": [
        "\r\n",
        "\r\n",
        "# Data Preparation"
      ]
    },
    {
      "cell_type": "code",
      "metadata": {
        "id": "ZhFuoAXtioDh",
        "colab": {
          "base_uri": "https://localhost:8080/"
        },
        "outputId": "b9eb662f-4bb9-428c-e88d-16fd84373bc9"
      },
      "source": [
        "import pandas as pd\r\n",
        "import numpy as np\r\n",
        "import matplotlib.pyplot as plt\r\n",
        "import nltk\r\n",
        "import io\r\n",
        "import zipfile\r\n",
        "from sklearn import preprocessing\r\n",
        "!pip install emoji --upgrade\r\n",
        "#nltk.download('stopwords')\r\n",
        "from nltk.tokenize import word_tokenize\r\n",
        "from nltk.stem import WordNetLemmatizer\r\n",
        "from nltk.stem import PorterStemmer\r\n",
        "from tqdm import tqdm\r\n",
        "from keras.models import Sequential\r\n",
        "from keras.layers.recurrent import LSTM, GRU\r\n",
        "from keras.layers.core import Dense, Activation, Dropout\r\n",
        "from keras.layers.embeddings import Embedding\r\n",
        "from keras.layers.normalization import BatchNormalization\r\n",
        "from keras.utils import np_utils\r\n",
        "from keras.layers import GlobalMaxPooling1D, Conv1D, MaxPooling1D, Flatten, Bidirectional, SpatialDropout1D\r\n",
        "from sklearn.model_selection import train_test_split\r\n",
        "from keras.preprocessing import sequence\r\n",
        "from keras.preprocessing.text import Tokenizer\r\n",
        "from keras.callbacks import EarlyStopping\r\n",
        "import matplotlib.pyplot as plt\r\n",
        "from google.colab import files\r\n",
        "from nltk.corpus import stopwords\r\n",
        "\r\n",
        "#stop_words = stopwords.words('english')\r\n",
        "\r\n",
        "import tensorflow as tf\r\n",
        "print(tf.__version__)"
      ],
      "execution_count": 1,
      "outputs": [
        {
          "output_type": "stream",
          "text": [
            "2.4.0\n"
          ],
          "name": "stdout"
        }
      ]
    },
    {
      "cell_type": "code",
      "metadata": {
        "id": "pi3jZgjYDjhm"
      },
      "source": [
        "url = 'https://github.com/Hsankesara/The-Tweets-of-Wisdom/raw/master/tweets.csv'\r\n",
        "#url = 'https://github.com/anaEver/DL/blob/main/export_dataframe.csv'\r\n",
        "df = pd.read_csv(url)\r\n"
      ],
      "execution_count": 2,
      "outputs": []
    },
    {
      "cell_type": "code",
      "metadata": {
        "colab": {
          "base_uri": "https://localhost:8080/",
          "height": 204
        },
        "id": "8CSt6bgzjrA5",
        "outputId": "43885e71-37a1-422c-a527-030198a283a6"
      },
      "source": [
        "df.drop(columns=['created_at','likes', 'retweets','handle'],inplace=True)\r\n",
        "df.head()"
      ],
      "execution_count": 5,
      "outputs": [
        {
          "output_type": "execute_result",
          "data": {
            "text/html": [
              "<div>\n",
              "<style scoped>\n",
              "    .dataframe tbody tr th:only-of-type {\n",
              "        vertical-align: middle;\n",
              "    }\n",
              "\n",
              "    .dataframe tbody tr th {\n",
              "        vertical-align: top;\n",
              "    }\n",
              "\n",
              "    .dataframe thead th {\n",
              "        text-align: right;\n",
              "    }\n",
              "</style>\n",
              "<table border=\"1\" class=\"dataframe\">\n",
              "  <thead>\n",
              "    <tr style=\"text-align: right;\">\n",
              "      <th></th>\n",
              "      <th>author_name</th>\n",
              "      <th>handle</th>\n",
              "      <th>tweet_content</th>\n",
              "    </tr>\n",
              "  </thead>\n",
              "  <tbody>\n",
              "    <tr>\n",
              "      <th>0</th>\n",
              "      <td>Naval</td>\n",
              "      <td>naval</td>\n",
              "      <td>Unresolved thoughts, prematurely pushed out of...</td>\n",
              "    </tr>\n",
              "    <tr>\n",
              "      <th>1</th>\n",
              "      <td>Naval</td>\n",
              "      <td>naval</td>\n",
              "      <td>The modern mind is overstimulated and the mode...</td>\n",
              "    </tr>\n",
              "    <tr>\n",
              "      <th>2</th>\n",
              "      <td>Naval</td>\n",
              "      <td>naval</td>\n",
              "      <td>The Lindy Effect for startups:\\n\\nThe longer y...</td>\n",
              "    </tr>\n",
              "    <tr>\n",
              "      <th>3</th>\n",
              "      <td>Naval</td>\n",
              "      <td>naval</td>\n",
              "      <td>@orangebook_ This was a good tweet.</td>\n",
              "    </tr>\n",
              "    <tr>\n",
              "      <th>4</th>\n",
              "      <td>Naval</td>\n",
              "      <td>naval</td>\n",
              "      <td>Social media lowers the cost of raising &amp;amp; ...</td>\n",
              "    </tr>\n",
              "  </tbody>\n",
              "</table>\n",
              "</div>"
            ],
            "text/plain": [
              "  author_name handle                                      tweet_content\n",
              "0       Naval  naval  Unresolved thoughts, prematurely pushed out of...\n",
              "1       Naval  naval  The modern mind is overstimulated and the mode...\n",
              "2       Naval  naval  The Lindy Effect for startups:\\n\\nThe longer y...\n",
              "3       Naval  naval               @orangebook_ This was a good tweet. \n",
              "4       Naval  naval  Social media lowers the cost of raising &amp; ..."
            ]
          },
          "metadata": {
            "tags": []
          },
          "execution_count": 5
        }
      ]
    },
    {
      "cell_type": "code",
      "metadata": {
        "id": "GyEl16taZddH"
      },
      "source": [
        "df.dropna('index',inplace=True)"
      ],
      "execution_count": 10,
      "outputs": []
    },
    {
      "cell_type": "code",
      "metadata": {
        "id": "d-vCy3Cncti8"
      },
      "source": [
        "df = df.groupby('author_name').filter(lambda x : len(x)>50)"
      ],
      "execution_count": 14,
      "outputs": []
    },
    {
      "cell_type": "code",
      "metadata": {
        "id": "kmXP4GR37Um4"
      },
      "source": [
        "#preprocess - tokenize,stemming, punctuation and smiley removal, capitalization, slang and abbreviations\n",
        "from nltk.tokenize import word_tokenize\n",
        "from nltk.stem import PorterStemmer \n",
        "import re\n",
        "from pandas import DataFrame\n",
        "import emoji\n",
        "\n",
        "tweet = df.tweet_content.astype(str)\n",
        "i = 0\n",
        "#remove url and user mentions\n",
        "for t in tweet:\n",
        "  t = emoji.demojize(t)\n",
        "  t = re.sub('@[A-Za-z0-9_]+','', t)\n",
        "  t = re.sub('<q>','', t)\n",
        "  t = re.sub('</q>', '', t)\n",
        "  t = re.sub(\"can't\",'cannot',t)\n",
        "  t = re.sub(\"n't\",' not', t)\n",
        "  t = re.sub(\"I'm\",'I am',t)\n",
        "  t = re.sub(',',' ',t)\n",
        "  t =  re.sub(r'http\\S+', '', t)# to remove links that start with HTTP/HTTPS in the tweet\n",
        "  #t  = re.sub(r'[-a-zA-Z0–9@:%._\\+~#=]{2,256}\\.[a-z]{2,6}\\b([-a-zA-Z0–9@:%_\\+.~#?&//=]*)', '', t) # to remove other url links\n",
        "  t = re.sub('[^0-9a-z #+_]',' ',t)#remove numbers\n",
        "  t = re.sub(r\"[^a-zA-Z0-9]+\", ' ', t)#special characters\n",
        "  t = re.sub('[0-9]+','',t)\n",
        "  df.loc[i, 'tweet_content'] = t\n",
        "  i += 1\n",
        "  #print(t)\n",
        "\n",
        "\n"
      ],
      "execution_count": 17,
      "outputs": []
    },
    {
      "cell_type": "code",
      "metadata": {
        "id": "phbBLWpigvNC"
      },
      "source": [
        "df.author_name = df.author_name.astype(str)"
      ],
      "execution_count": 21,
      "outputs": []
    },
    {
      "cell_type": "code",
      "metadata": {
        "colab": {
          "base_uri": "https://localhost:8080/"
        },
        "id": "MVRtKW6JQaCA",
        "outputId": "f12e1e34-ab06-4711-fbbc-1ba8c2096aab"
      },
      "source": [
        "df.to_csv (r'./tweets.csv', index = False, header=True)\r\n",
        "%ls"
      ],
      "execution_count": 24,
      "outputs": [
        {
          "output_type": "stream",
          "text": [
            "\u001b[0m\u001b[01;34msample_data\u001b[0m/  tweets.csv\n"
          ],
          "name": "stdout"
        }
      ]
    },
    {
      "cell_type": "code",
      "metadata": {
        "colab": {
          "base_uri": "https://localhost:8080/"
        },
        "id": "U2XMQlsNSEBm",
        "outputId": "20b07740-971c-447f-d37c-039a49b43c3b"
      },
      "source": [
        "label_encoder = preprocessing.LabelEncoder()\r\n",
        "labels = label_encoder.fit_transform(df.author_name.values)\r\n",
        "np.unique(labels)"
      ],
      "execution_count": 22,
      "outputs": [
        {
          "output_type": "execute_result",
          "data": {
            "text/plain": [
              "array([ 0,  1,  2,  3,  4,  5,  6,  7,  8,  9, 10, 11, 12, 13, 14, 15, 16,\n",
              "       17, 18, 19, 20, 21, 22, 23, 24, 25, 26, 27, 28, 29, 30, 31, 32, 33,\n",
              "       34, 35, 36, 37, 38, 39, 40])"
            ]
          },
          "metadata": {
            "tags": []
          },
          "execution_count": 22
        }
      ]
    },
    {
      "cell_type": "code",
      "metadata": {
        "colab": {
          "base_uri": "https://localhost:8080/"
        },
        "id": "_CyXbdQEi75Q",
        "outputId": "fe79e71d-f4e5-4773-bbc0-88c52932bdde"
      },
      "source": [
        "df.tweet_content.nunique()"
      ],
      "execution_count": 23,
      "outputs": [
        {
          "output_type": "execute_result",
          "data": {
            "text/plain": [
              "27743"
            ]
          },
          "metadata": {
            "tags": []
          },
          "execution_count": 23
        }
      ]
    },
    {
      "cell_type": "markdown",
      "metadata": {
        "id": "xKcvKiQVFRB4"
      },
      "source": [
        "# GloVe"
      ]
    },
    {
      "cell_type": "code",
      "metadata": {
        "id": "imLJrp1XFXxS"
      },
      "source": [
        "!wget http://nlp.stanford.edu/data/glove.twitter.27B.zip\r\n",
        "!unzip glove.twitter.27B.zip"
      ],
      "execution_count": null,
      "outputs": []
    },
    {
      "cell_type": "code",
      "metadata": {
        "id": "xD3HvAe5cwqJ"
      },
      "source": [
        "def build_vocab(sentences, verbose =  True):\r\n",
        "    \"\"\"\r\n",
        "    :param sentences: list of list of words\r\n",
        "    :return: dictionary of words and their count\r\n",
        "    \"\"\"\r\n",
        "    vocab = {}\r\n",
        "    verbose = True\r\n",
        "    i = 0\r\n",
        "    for sentence in tqdm(sentences, disable = (not verbose)):\r\n",
        "      for word in sentence:\r\n",
        "        try:\r\n",
        "          vocab[word] += 1\r\n",
        "        except KeyError:\r\n",
        "          vocab[word] = 1\r\n",
        "          i += 1\r\n",
        "    return vocab"
      ],
      "execution_count": 28,
      "outputs": []
    },
    {
      "cell_type": "code",
      "metadata": {
        "id": "bw0vDOVLcyJd",
        "colab": {
          "base_uri": "https://localhost:8080/"
        },
        "outputId": "967f2d41-8a7d-4b73-d55a-8d0c22fc5fed"
      },
      "source": [
        "import pandas as pd\r\n",
        "from tqdm import tqdm\r\n",
        "tqdm.pandas()\r\n",
        "sentences = df[\"tweet_content\"].progress_apply(lambda x: x.split()).values\r\n",
        "vocab = build_vocab(sentences)\r\n",
        "print(len(vocab))"
      ],
      "execution_count": 29,
      "outputs": [
        {
          "output_type": "stream",
          "text": [
            "100%|██████████| 24617/24617 [00:00<00:00, 177867.48it/s]\n",
            "100%|██████████| 24617/24617 [00:00<00:00, 145558.89it/s]"
          ],
          "name": "stderr"
        },
        {
          "output_type": "stream",
          "text": [
            "23972\n"
          ],
          "name": "stdout"
        },
        {
          "output_type": "stream",
          "text": [
            "\n"
          ],
          "name": "stderr"
        }
      ]
    },
    {
      "cell_type": "code",
      "metadata": {
        "id": "NEhktqpyJh7p",
        "colab": {
          "base_uri": "https://localhost:8080/"
        },
        "outputId": "c95c7859-b931-4a3d-e5bc-04c1106d33a8"
      },
      "source": [
        "print('Indexing word vectors. 100d')\r\n",
        "\r\n",
        "embeddings_index_100 = {}\r\n",
        "f = open('glove.twitter.27B.100d.txt', encoding='utf-8')\r\n",
        "for line in f:\r\n",
        "    values = line.split()\r\n",
        "    word = values[0]\r\n",
        "    coefs = np.asarray(values[1:], dtype='float32')\r\n",
        "    embeddings_index_100[word] = coefs\r\n",
        "f.close()\r\n",
        "\r\n",
        "print('Found %s word vectors.' % len(embeddings_index_100))"
      ],
      "execution_count": 27,
      "outputs": [
        {
          "output_type": "stream",
          "text": [
            "Indexing word vectors. 100d\n",
            "Found 1193514 word vectors.\n"
          ],
          "name": "stdout"
        }
      ]
    },
    {
      "cell_type": "code",
      "metadata": {
        "id": "YeQbTmVhP9XY"
      },
      "source": [
        "VOCABULARY_SIZE = 20000\r\n",
        "MAX_LENGTH = 140\r\n",
        "df.tweet_content  = df.tweet_content.astype(str)\r\n",
        "xtrain, xtest, ytrain, ytest = train_test_split(df.tweet_content.values, labels, \r\n",
        "  \r\n",
        " random_state=42, \r\n",
        " test_size=0.2, shuffle=True)\r\n",
        "tokenizer = Tokenizer(num_words=VOCABULARY_SIZE)\r\n",
        "tokenizer.fit_on_texts(list(xtrain) + list(xtest))"
      ],
      "execution_count": 30,
      "outputs": []
    },
    {
      "cell_type": "code",
      "metadata": {
        "id": "vQgnrTePTmmb"
      },
      "source": [
        "xtrain_sequence = tokenizer.texts_to_sequences(xtrain)\r\n",
        "xtest_sequence = tokenizer.texts_to_sequences(xtest)"
      ],
      "execution_count": 31,
      "outputs": []
    },
    {
      "cell_type": "code",
      "metadata": {
        "id": "E2D7K8-JVT2i"
      },
      "source": [
        "xtrain_padding = sequence.pad_sequences(xtrain_sequence, maxlen=MAX_LENGTH)\r\n",
        "xtest_padding = sequence.pad_sequences(xtest_sequence, maxlen=MAX_LENGTH)\r\n",
        "word_index = tokenizer.word_index"
      ],
      "execution_count": 32,
      "outputs": []
    },
    {
      "cell_type": "code",
      "metadata": {
        "id": "Cs_76uuGVXdm",
        "colab": {
          "base_uri": "https://localhost:8080/"
        },
        "outputId": "d1be6245-9a64-45ab-cc00-f3296dbba937"
      },
      "source": [
        "embedding_matrix = np.zeros((len(word_index) + 1, 100))\r\n",
        "for word, i in tqdm(word_index.items()):\r\n",
        "  embedding_vector = embeddings_index_100.get(word)\r\n",
        "  if embedding_vector is not None:\r\n",
        "    embedding_matrix[i] = embedding_vector"
      ],
      "execution_count": 33,
      "outputs": [
        {
          "output_type": "stream",
          "text": [
            "100%|██████████| 23972/23972 [00:00<00:00, 311483.24it/s]\n"
          ],
          "name": "stderr"
        }
      ]
    },
    {
      "cell_type": "markdown",
      "metadata": {
        "id": "x0pzbWo7Voq2"
      },
      "source": [
        "# LSTM"
      ]
    },
    {
      "cell_type": "code",
      "metadata": {
        "id": "AX-50k8yVr8V"
      },
      "source": [
        "model = Sequential()\r\n",
        "model.add(Embedding(len(word_index) + 1,\r\n",
        " 100,\r\n",
        " weights=[embedding_matrix],\r\n",
        " input_length=MAX_LENGTH,\r\n",
        " trainable=False))\r\n",
        "model.add(SpatialDropout1D(0.3))\r\n",
        "model.add(Bidirectional(LSTM(100, dropout=0.3, recurrent_dropout=0.3)))\r\n",
        "model.add(Dense(1024, activation='relu'))\r\n",
        "model.add(Dropout(0.8))\r\n",
        "model.add(Dense(1024, activation='relu'))\r\n",
        "model.add(Dropout(0.8))\r\n",
        "model.add(Dense(40))\r\n",
        "model.add(Activation('softmax'))\r\n",
        "model.compile(loss='categorical_crossentropy', optimizer='adam', metrics=['accuracy'])"
      ],
      "execution_count": 39,
      "outputs": []
    },
    {
      "cell_type": "code",
      "metadata": {
        "id": "Lp9gTfQ1V74x"
      },
      "source": [
        "ytrain_encode = np_utils.to_categorical(ytrain, 40)\r\n",
        "ytest_encode = np_utils.to_categorical(ytest, 40)"
      ],
      "execution_count": 35,
      "outputs": []
    },
    {
      "cell_type": "code",
      "metadata": {
        "id": "0B3V-1wYAhE0"
      },
      "source": [
        "cnn_model = Sequential()\r\n",
        "cnn_model.add(Embedding(len(word_index) + 1,\r\n",
        " 100,\r\n",
        " weights=[embedding_matrix],\r\n",
        " input_length=MAX_LENGTH,\r\n",
        " trainable=False))\r\n",
        "cnn_model.add(Conv1D(filters=100, kernel_size=3, padding='same', activation='relu'))\r\n",
        "cnn_model.add(MaxPooling1D(pool_size=2))\r\n",
        "cnn_model.add(Bidirectional(LSTM(100, dropout=0.3, recurrent_dropout=0.3)))\r\n",
        "cnn_model.add(Dense(1024, activation='relu'))\r\n",
        "cnn_model.add(Dropout(0.8))\r\n",
        "cnn_model.add(Dense(1024, activation='relu'))\r\n",
        "cnn_model.add(Dropout(0.8))\r\n",
        "cnn_model.add(Dense(40))\r\n",
        "cnn_model.add(Activation('softmax'))\r\n",
        "cnn_model.compile(loss='categorical_crossentropy', optimizer='adam', metrics=['accuracy'])"
      ],
      "execution_count": 42,
      "outputs": []
    },
    {
      "cell_type": "code",
      "metadata": {
        "colab": {
          "base_uri": "https://localhost:8080/"
        },
        "id": "nfTCSyBnV-O_",
        "outputId": "bb586790-b276-4fab-e66d-bd67dd5afa55"
      },
      "source": [
        "\r\n",
        "history = model.fit(xtrain_padding, y=ytrain_encode, batch_size=512, epochs=20, verbose=1, validation_data=(xtest_padding, ytest_encode))"
      ],
      "execution_count": 40,
      "outputs": [
        {
          "output_type": "stream",
          "text": [
            "Epoch 1/20\n",
            "39/39 [==============================] - 165s 4s/step - loss: 3.5458 - accuracy: 0.0604 - val_loss: 3.3657 - val_accuracy: 0.1026\n",
            "Epoch 2/20\n",
            "39/39 [==============================] - 156s 4s/step - loss: 3.3824 - accuracy: 0.0871 - val_loss: 3.2705 - val_accuracy: 0.1336\n",
            "Epoch 3/20\n",
            "39/39 [==============================] - 153s 4s/step - loss: 3.2825 - accuracy: 0.1211 - val_loss: 3.1167 - val_accuracy: 0.1629\n",
            "Epoch 4/20\n",
            "39/39 [==============================] - 155s 4s/step - loss: 3.1756 - accuracy: 0.1474 - val_loss: 3.0226 - val_accuracy: 0.1885\n",
            "Epoch 5/20\n",
            "39/39 [==============================] - 155s 4s/step - loss: 3.1176 - accuracy: 0.1727 - val_loss: 2.9569 - val_accuracy: 0.2061\n",
            "Epoch 6/20\n",
            "39/39 [==============================] - 154s 4s/step - loss: 3.0556 - accuracy: 0.1782 - val_loss: 2.9081 - val_accuracy: 0.2132\n",
            "Epoch 7/20\n",
            "39/39 [==============================] - 154s 4s/step - loss: 2.9953 - accuracy: 0.1973 - val_loss: 2.8623 - val_accuracy: 0.2291\n",
            "Epoch 8/20\n",
            "39/39 [==============================] - 152s 4s/step - loss: 2.9750 - accuracy: 0.1973 - val_loss: 2.8244 - val_accuracy: 0.2392\n",
            "Epoch 9/20\n",
            "39/39 [==============================] - 153s 4s/step - loss: 2.9427 - accuracy: 0.2124 - val_loss: 2.8069 - val_accuracy: 0.2400\n",
            "Epoch 10/20\n",
            "39/39 [==============================] - 153s 4s/step - loss: 2.9055 - accuracy: 0.2189 - val_loss: 2.7650 - val_accuracy: 0.2518\n",
            "Epoch 11/20\n",
            "39/39 [==============================] - 155s 4s/step - loss: 2.8891 - accuracy: 0.2242 - val_loss: 2.7335 - val_accuracy: 0.2565\n",
            "Epoch 12/20\n",
            "39/39 [==============================] - 156s 4s/step - loss: 2.8628 - accuracy: 0.2300 - val_loss: 2.6984 - val_accuracy: 0.2709\n",
            "Epoch 13/20\n",
            "39/39 [==============================] - 154s 4s/step - loss: 2.8234 - accuracy: 0.2346 - val_loss: 2.6616 - val_accuracy: 0.2711\n",
            "Epoch 14/20\n",
            "39/39 [==============================] - 156s 4s/step - loss: 2.8077 - accuracy: 0.2474 - val_loss: 2.6426 - val_accuracy: 0.2772\n",
            "Epoch 15/20\n",
            "39/39 [==============================] - 153s 4s/step - loss: 2.7907 - accuracy: 0.2468 - val_loss: 2.6398 - val_accuracy: 0.2797\n",
            "Epoch 16/20\n",
            "39/39 [==============================] - 160s 4s/step - loss: 2.7727 - accuracy: 0.2536 - val_loss: 2.6004 - val_accuracy: 0.2859\n",
            "Epoch 17/20\n",
            "39/39 [==============================] - 156s 4s/step - loss: 2.7374 - accuracy: 0.2575 - val_loss: 2.6052 - val_accuracy: 0.2861\n",
            "Epoch 18/20\n",
            "39/39 [==============================] - 153s 4s/step - loss: 2.7229 - accuracy: 0.2651 - val_loss: 2.5855 - val_accuracy: 0.2872\n",
            "Epoch 19/20\n",
            "39/39 [==============================] - 152s 4s/step - loss: 2.7202 - accuracy: 0.2604 - val_loss: 2.5672 - val_accuracy: 0.2943\n",
            "Epoch 20/20\n",
            "39/39 [==============================] - 155s 4s/step - loss: 2.7049 - accuracy: 0.2678 - val_loss: 2.5516 - val_accuracy: 0.3024\n"
          ],
          "name": "stdout"
        }
      ]
    },
    {
      "cell_type": "code",
      "metadata": {
        "colab": {
          "base_uri": "https://localhost:8080/"
        },
        "id": "wqW0PKYEAxdu",
        "outputId": "a5a77742-e786-4be1-9264-226b1d8159c6"
      },
      "source": [
        "\r\n",
        "history = cnn_model.fit(xtrain_padding, y=ytrain_encode, batch_size=512, epochs=20, verbose=1, validation_data=(xtest_padding, ytest_encode))"
      ],
      "execution_count": 43,
      "outputs": [
        {
          "output_type": "stream",
          "text": [
            "Epoch 1/20\n",
            "39/39 [==============================] - 106s 3s/step - loss: 3.5353 - accuracy: 0.0672 - val_loss: 3.3598 - val_accuracy: 0.1054\n",
            "Epoch 2/20\n",
            "39/39 [==============================] - 100s 3s/step - loss: 3.3440 - accuracy: 0.1021 - val_loss: 3.1160 - val_accuracy: 0.1635\n",
            "Epoch 3/20\n",
            "39/39 [==============================] - 100s 3s/step - loss: 3.1377 - accuracy: 0.1583 - val_loss: 2.9577 - val_accuracy: 0.1946\n",
            "Epoch 4/20\n",
            "39/39 [==============================] - 100s 3s/step - loss: 3.0045 - accuracy: 0.1865 - val_loss: 2.8594 - val_accuracy: 0.2268\n",
            "Epoch 5/20\n",
            "39/39 [==============================] - 100s 3s/step - loss: 2.8812 - accuracy: 0.2163 - val_loss: 2.7716 - val_accuracy: 0.2520\n",
            "Epoch 6/20\n",
            "39/39 [==============================] - 101s 3s/step - loss: 2.8040 - accuracy: 0.2365 - val_loss: 2.7167 - val_accuracy: 0.2553\n",
            "Epoch 7/20\n",
            "39/39 [==============================] - 100s 3s/step - loss: 2.7454 - accuracy: 0.2549 - val_loss: 2.6599 - val_accuracy: 0.2685\n",
            "Epoch 8/20\n",
            "39/39 [==============================] - 100s 3s/step - loss: 2.6705 - accuracy: 0.2753 - val_loss: 2.6103 - val_accuracy: 0.2851\n",
            "Epoch 9/20\n",
            "39/39 [==============================] - 101s 3s/step - loss: 2.5963 - accuracy: 0.2828 - val_loss: 2.6197 - val_accuracy: 0.2837\n",
            "Epoch 10/20\n",
            "39/39 [==============================] - 100s 3s/step - loss: 2.5731 - accuracy: 0.2919 - val_loss: 2.5758 - val_accuracy: 0.2922\n",
            "Epoch 11/20\n",
            "39/39 [==============================] - 99s 3s/step - loss: 2.5385 - accuracy: 0.3002 - val_loss: 2.5520 - val_accuracy: 0.3026\n",
            "Epoch 12/20\n",
            "39/39 [==============================] - 100s 3s/step - loss: 2.4950 - accuracy: 0.3079 - val_loss: 2.5170 - val_accuracy: 0.3099\n",
            "Epoch 13/20\n",
            "39/39 [==============================] - 101s 3s/step - loss: 2.4759 - accuracy: 0.3188 - val_loss: 2.4888 - val_accuracy: 0.3195\n",
            "Epoch 14/20\n",
            "39/39 [==============================] - 101s 3s/step - loss: 2.4115 - accuracy: 0.3294 - val_loss: 2.4646 - val_accuracy: 0.3270\n",
            "Epoch 15/20\n",
            "39/39 [==============================] - 100s 3s/step - loss: 2.3890 - accuracy: 0.3400 - val_loss: 2.4719 - val_accuracy: 0.3223\n",
            "Epoch 16/20\n",
            "39/39 [==============================] - 101s 3s/step - loss: 2.3683 - accuracy: 0.3406 - val_loss: 2.4565 - val_accuracy: 0.3318\n",
            "Epoch 17/20\n",
            "39/39 [==============================] - 99s 3s/step - loss: 2.3254 - accuracy: 0.3562 - val_loss: 2.4329 - val_accuracy: 0.3351\n",
            "Epoch 18/20\n",
            "39/39 [==============================] - 100s 3s/step - loss: 2.2933 - accuracy: 0.3650 - val_loss: 2.4205 - val_accuracy: 0.3438\n",
            "Epoch 19/20\n",
            "39/39 [==============================] - 100s 3s/step - loss: 2.2741 - accuracy: 0.3673 - val_loss: 2.4223 - val_accuracy: 0.3396\n",
            "Epoch 20/20\n",
            "39/39 [==============================] - 100s 3s/step - loss: 2.2523 - accuracy: 0.3684 - val_loss: 2.4138 - val_accuracy: 0.3402\n"
          ],
          "name": "stdout"
        }
      ]
    }
  ]
}